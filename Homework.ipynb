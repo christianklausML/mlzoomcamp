{
 "cells": [
  {
   "cell_type": "markdown",
   "metadata": {},
   "source": [
    "# Q1"
   ]
  },
  {
   "cell_type": "code",
   "execution_count": 4,
   "metadata": {},
   "outputs": [
    {
     "data": {
      "text/plain": [
       "'1.19.2'"
      ]
     },
     "execution_count": 4,
     "metadata": {},
     "output_type": "execute_result"
    }
   ],
   "source": [
    "import numpy as np\n",
    "np.__version__"
   ]
  },
  {
   "cell_type": "markdown",
   "metadata": {},
   "source": [
    "# Q2"
   ]
  },
  {
   "cell_type": "code",
   "execution_count": 5,
   "metadata": {},
   "outputs": [
    {
     "data": {
      "text/plain": [
       "'1.1.3'"
      ]
     },
     "execution_count": 5,
     "metadata": {},
     "output_type": "execute_result"
    }
   ],
   "source": [
    "import pandas as pd\n",
    "pd.__version__"
   ]
  },
  {
   "cell_type": "markdown",
   "metadata": {},
   "source": [
    "# Q3"
   ]
  },
  {
   "cell_type": "code",
   "execution_count": 172,
   "metadata": {},
   "outputs": [],
   "source": [
    "df = pd.read_csv(\"data.csv\")"
   ]
  },
  {
   "cell_type": "code",
   "execution_count": 173,
   "metadata": {},
   "outputs": [],
   "source": [
    "df_bmw = df[\n",
    "    df['Make'] == 'BMW'\n",
    "]"
   ]
  },
  {
   "cell_type": "code",
   "execution_count": 174,
   "metadata": {
    "scrolled": true
   },
   "outputs": [
    {
     "data": {
      "text/plain": [
       "61546.76347305389"
      ]
     },
     "execution_count": 174,
     "metadata": {},
     "output_type": "execute_result"
    }
   ],
   "source": [
    "df_bmw.MSRP.mean()"
   ]
  },
  {
   "cell_type": "markdown",
   "metadata": {},
   "source": [
    "# Q4 "
   ]
  },
  {
   "cell_type": "code",
   "execution_count": 170,
   "metadata": {},
   "outputs": [],
   "source": [
    "df_2015 = df[\n",
    "    df['Year'] >= 2015\n",
    "]"
   ]
  },
  {
   "cell_type": "code",
   "execution_count": 167,
   "metadata": {},
   "outputs": [
    {
     "data": {
      "text/html": [
       "<div>\n",
       "<style scoped>\n",
       "    .dataframe tbody tr th:only-of-type {\n",
       "        vertical-align: middle;\n",
       "    }\n",
       "\n",
       "    .dataframe tbody tr th {\n",
       "        vertical-align: top;\n",
       "    }\n",
       "\n",
       "    .dataframe thead th {\n",
       "        text-align: right;\n",
       "    }\n",
       "</style>\n",
       "<table border=\"1\" class=\"dataframe\">\n",
       "  <thead>\n",
       "    <tr style=\"text-align: right;\">\n",
       "      <th></th>\n",
       "      <th>Make</th>\n",
       "      <th>Model</th>\n",
       "      <th>Year</th>\n",
       "      <th>Engine Fuel Type</th>\n",
       "      <th>Engine HP</th>\n",
       "      <th>Engine Cylinders</th>\n",
       "      <th>Transmission Type</th>\n",
       "      <th>Driven_Wheels</th>\n",
       "      <th>Number of Doors</th>\n",
       "      <th>Market Category</th>\n",
       "      <th>Vehicle Size</th>\n",
       "      <th>Vehicle Style</th>\n",
       "      <th>highway MPG</th>\n",
       "      <th>city mpg</th>\n",
       "      <th>Popularity</th>\n",
       "      <th>MSRP</th>\n",
       "    </tr>\n",
       "  </thead>\n",
       "  <tbody>\n",
       "    <tr>\n",
       "      <th>32</th>\n",
       "      <td>FIAT</td>\n",
       "      <td>124 Spider</td>\n",
       "      <td>2017</td>\n",
       "      <td>premium unleaded (recommended)</td>\n",
       "      <td>160.0</td>\n",
       "      <td>4.0</td>\n",
       "      <td>MANUAL</td>\n",
       "      <td>rear wheel drive</td>\n",
       "      <td>2.0</td>\n",
       "      <td>Performance</td>\n",
       "      <td>Compact</td>\n",
       "      <td>Convertible</td>\n",
       "      <td>35</td>\n",
       "      <td>26</td>\n",
       "      <td>819</td>\n",
       "      <td>27495</td>\n",
       "    </tr>\n",
       "    <tr>\n",
       "      <th>33</th>\n",
       "      <td>FIAT</td>\n",
       "      <td>124 Spider</td>\n",
       "      <td>2017</td>\n",
       "      <td>premium unleaded (recommended)</td>\n",
       "      <td>160.0</td>\n",
       "      <td>4.0</td>\n",
       "      <td>MANUAL</td>\n",
       "      <td>rear wheel drive</td>\n",
       "      <td>2.0</td>\n",
       "      <td>Performance</td>\n",
       "      <td>Compact</td>\n",
       "      <td>Convertible</td>\n",
       "      <td>35</td>\n",
       "      <td>26</td>\n",
       "      <td>819</td>\n",
       "      <td>24995</td>\n",
       "    </tr>\n",
       "    <tr>\n",
       "      <th>34</th>\n",
       "      <td>FIAT</td>\n",
       "      <td>124 Spider</td>\n",
       "      <td>2017</td>\n",
       "      <td>premium unleaded (recommended)</td>\n",
       "      <td>160.0</td>\n",
       "      <td>4.0</td>\n",
       "      <td>MANUAL</td>\n",
       "      <td>rear wheel drive</td>\n",
       "      <td>2.0</td>\n",
       "      <td>Performance</td>\n",
       "      <td>Compact</td>\n",
       "      <td>Convertible</td>\n",
       "      <td>35</td>\n",
       "      <td>26</td>\n",
       "      <td>819</td>\n",
       "      <td>28195</td>\n",
       "    </tr>\n",
       "    <tr>\n",
       "      <th>41</th>\n",
       "      <td>BMW</td>\n",
       "      <td>2 Series</td>\n",
       "      <td>2016</td>\n",
       "      <td>premium unleaded (required)</td>\n",
       "      <td>240.0</td>\n",
       "      <td>4.0</td>\n",
       "      <td>AUTOMATIC</td>\n",
       "      <td>rear wheel drive</td>\n",
       "      <td>2.0</td>\n",
       "      <td>Luxury,Performance</td>\n",
       "      <td>Compact</td>\n",
       "      <td>Coupe</td>\n",
       "      <td>35</td>\n",
       "      <td>23</td>\n",
       "      <td>3916</td>\n",
       "      <td>32850</td>\n",
       "    </tr>\n",
       "    <tr>\n",
       "      <th>42</th>\n",
       "      <td>BMW</td>\n",
       "      <td>2 Series</td>\n",
       "      <td>2016</td>\n",
       "      <td>premium unleaded (required)</td>\n",
       "      <td>240.0</td>\n",
       "      <td>4.0</td>\n",
       "      <td>AUTOMATIC</td>\n",
       "      <td>rear wheel drive</td>\n",
       "      <td>2.0</td>\n",
       "      <td>Luxury</td>\n",
       "      <td>Compact</td>\n",
       "      <td>Convertible</td>\n",
       "      <td>34</td>\n",
       "      <td>23</td>\n",
       "      <td>3916</td>\n",
       "      <td>38650</td>\n",
       "    </tr>\n",
       "    <tr>\n",
       "      <th>...</th>\n",
       "      <td>...</td>\n",
       "      <td>...</td>\n",
       "      <td>...</td>\n",
       "      <td>...</td>\n",
       "      <td>...</td>\n",
       "      <td>...</td>\n",
       "      <td>...</td>\n",
       "      <td>...</td>\n",
       "      <td>...</td>\n",
       "      <td>...</td>\n",
       "      <td>...</td>\n",
       "      <td>...</td>\n",
       "      <td>...</td>\n",
       "      <td>...</td>\n",
       "      <td>...</td>\n",
       "      <td>...</td>\n",
       "    </tr>\n",
       "    <tr>\n",
       "      <th>11879</th>\n",
       "      <td>GMC</td>\n",
       "      <td>Yukon</td>\n",
       "      <td>2017</td>\n",
       "      <td>flex-fuel (unleaded/E85)</td>\n",
       "      <td>355.0</td>\n",
       "      <td>8.0</td>\n",
       "      <td>AUTOMATIC</td>\n",
       "      <td>four wheel drive</td>\n",
       "      <td>4.0</td>\n",
       "      <td>Flex Fuel,Performance</td>\n",
       "      <td>Large</td>\n",
       "      <td>4dr SUV</td>\n",
       "      <td>22</td>\n",
       "      <td>16</td>\n",
       "      <td>549</td>\n",
       "      <td>60315</td>\n",
       "    </tr>\n",
       "    <tr>\n",
       "      <th>11880</th>\n",
       "      <td>GMC</td>\n",
       "      <td>Yukon</td>\n",
       "      <td>2017</td>\n",
       "      <td>flex-fuel (unleaded/E85)</td>\n",
       "      <td>355.0</td>\n",
       "      <td>8.0</td>\n",
       "      <td>AUTOMATIC</td>\n",
       "      <td>rear wheel drive</td>\n",
       "      <td>4.0</td>\n",
       "      <td>Flex Fuel,Performance</td>\n",
       "      <td>Large</td>\n",
       "      <td>4dr SUV</td>\n",
       "      <td>23</td>\n",
       "      <td>16</td>\n",
       "      <td>549</td>\n",
       "      <td>48530</td>\n",
       "    </tr>\n",
       "    <tr>\n",
       "      <th>11900</th>\n",
       "      <td>BMW</td>\n",
       "      <td>Z4</td>\n",
       "      <td>2016</td>\n",
       "      <td>premium unleaded (required)</td>\n",
       "      <td>300.0</td>\n",
       "      <td>6.0</td>\n",
       "      <td>AUTOMATED_MANUAL</td>\n",
       "      <td>rear wheel drive</td>\n",
       "      <td>2.0</td>\n",
       "      <td>Luxury,High-Performance</td>\n",
       "      <td>Compact</td>\n",
       "      <td>Convertible</td>\n",
       "      <td>24</td>\n",
       "      <td>17</td>\n",
       "      <td>3916</td>\n",
       "      <td>57500</td>\n",
       "    </tr>\n",
       "    <tr>\n",
       "      <th>11901</th>\n",
       "      <td>BMW</td>\n",
       "      <td>Z4</td>\n",
       "      <td>2016</td>\n",
       "      <td>premium unleaded (required)</td>\n",
       "      <td>240.0</td>\n",
       "      <td>4.0</td>\n",
       "      <td>MANUAL</td>\n",
       "      <td>rear wheel drive</td>\n",
       "      <td>2.0</td>\n",
       "      <td>Luxury,Performance</td>\n",
       "      <td>Compact</td>\n",
       "      <td>Convertible</td>\n",
       "      <td>34</td>\n",
       "      <td>22</td>\n",
       "      <td>3916</td>\n",
       "      <td>49700</td>\n",
       "    </tr>\n",
       "    <tr>\n",
       "      <th>11902</th>\n",
       "      <td>BMW</td>\n",
       "      <td>Z4</td>\n",
       "      <td>2016</td>\n",
       "      <td>premium unleaded (required)</td>\n",
       "      <td>335.0</td>\n",
       "      <td>6.0</td>\n",
       "      <td>AUTOMATED_MANUAL</td>\n",
       "      <td>rear wheel drive</td>\n",
       "      <td>2.0</td>\n",
       "      <td>Luxury,High-Performance</td>\n",
       "      <td>Compact</td>\n",
       "      <td>Convertible</td>\n",
       "      <td>24</td>\n",
       "      <td>17</td>\n",
       "      <td>3916</td>\n",
       "      <td>66350</td>\n",
       "    </tr>\n",
       "  </tbody>\n",
       "</table>\n",
       "<p>3825 rows × 16 columns</p>\n",
       "</div>"
      ],
      "text/plain": [
       "       Make       Model  Year                Engine Fuel Type  Engine HP  \\\n",
       "32     FIAT  124 Spider  2017  premium unleaded (recommended)      160.0   \n",
       "33     FIAT  124 Spider  2017  premium unleaded (recommended)      160.0   \n",
       "34     FIAT  124 Spider  2017  premium unleaded (recommended)      160.0   \n",
       "41      BMW    2 Series  2016     premium unleaded (required)      240.0   \n",
       "42      BMW    2 Series  2016     premium unleaded (required)      240.0   \n",
       "...     ...         ...   ...                             ...        ...   \n",
       "11879   GMC       Yukon  2017        flex-fuel (unleaded/E85)      355.0   \n",
       "11880   GMC       Yukon  2017        flex-fuel (unleaded/E85)      355.0   \n",
       "11900   BMW          Z4  2016     premium unleaded (required)      300.0   \n",
       "11901   BMW          Z4  2016     premium unleaded (required)      240.0   \n",
       "11902   BMW          Z4  2016     premium unleaded (required)      335.0   \n",
       "\n",
       "       Engine Cylinders Transmission Type     Driven_Wheels  Number of Doors  \\\n",
       "32                  4.0            MANUAL  rear wheel drive              2.0   \n",
       "33                  4.0            MANUAL  rear wheel drive              2.0   \n",
       "34                  4.0            MANUAL  rear wheel drive              2.0   \n",
       "41                  4.0         AUTOMATIC  rear wheel drive              2.0   \n",
       "42                  4.0         AUTOMATIC  rear wheel drive              2.0   \n",
       "...                 ...               ...               ...              ...   \n",
       "11879               8.0         AUTOMATIC  four wheel drive              4.0   \n",
       "11880               8.0         AUTOMATIC  rear wheel drive              4.0   \n",
       "11900               6.0  AUTOMATED_MANUAL  rear wheel drive              2.0   \n",
       "11901               4.0            MANUAL  rear wheel drive              2.0   \n",
       "11902               6.0  AUTOMATED_MANUAL  rear wheel drive              2.0   \n",
       "\n",
       "               Market Category Vehicle Size Vehicle Style  highway MPG  \\\n",
       "32                 Performance      Compact   Convertible           35   \n",
       "33                 Performance      Compact   Convertible           35   \n",
       "34                 Performance      Compact   Convertible           35   \n",
       "41          Luxury,Performance      Compact         Coupe           35   \n",
       "42                      Luxury      Compact   Convertible           34   \n",
       "...                        ...          ...           ...          ...   \n",
       "11879    Flex Fuel,Performance        Large       4dr SUV           22   \n",
       "11880    Flex Fuel,Performance        Large       4dr SUV           23   \n",
       "11900  Luxury,High-Performance      Compact   Convertible           24   \n",
       "11901       Luxury,Performance      Compact   Convertible           34   \n",
       "11902  Luxury,High-Performance      Compact   Convertible           24   \n",
       "\n",
       "       city mpg  Popularity   MSRP  \n",
       "32           26         819  27495  \n",
       "33           26         819  24995  \n",
       "34           26         819  28195  \n",
       "41           23        3916  32850  \n",
       "42           23        3916  38650  \n",
       "...         ...         ...    ...  \n",
       "11879        16         549  60315  \n",
       "11880        16         549  48530  \n",
       "11900        17        3916  57500  \n",
       "11901        22        3916  49700  \n",
       "11902        17        3916  66350  \n",
       "\n",
       "[3825 rows x 16 columns]"
      ]
     },
     "execution_count": 167,
     "metadata": {},
     "output_type": "execute_result"
    }
   ],
   "source": [
    "df_2015"
   ]
  },
  {
   "cell_type": "code",
   "execution_count": 171,
   "metadata": {},
   "outputs": [
    {
     "data": {
      "text/plain": [
       "51"
      ]
     },
     "execution_count": 171,
     "metadata": {},
     "output_type": "execute_result"
    }
   ],
   "source": [
    "df_2015['Engine HP'].isnull().sum()"
   ]
  },
  {
   "cell_type": "markdown",
   "metadata": {},
   "source": [
    "# Q5"
   ]
  },
  {
   "cell_type": "code",
   "execution_count": 112,
   "metadata": {
    "scrolled": true
   },
   "outputs": [
    {
     "data": {
      "text/plain": [
       "249.38607007176023"
      ]
     },
     "execution_count": 112,
     "metadata": {},
     "output_type": "execute_result"
    }
   ],
   "source": [
    "df['Engine HP'].mean()"
   ]
  },
  {
   "cell_type": "code",
   "execution_count": 116,
   "metadata": {},
   "outputs": [],
   "source": [
    "df_fillna = df['Engine HP'].fillna(value=249.38607007176023)"
   ]
  },
  {
   "cell_type": "code",
   "execution_count": 118,
   "metadata": {},
   "outputs": [
    {
     "data": {
      "text/plain": [
       "0"
      ]
     },
     "execution_count": 118,
     "metadata": {},
     "output_type": "execute_result"
    }
   ],
   "source": [
    "df_fillna.isnull().sum()"
   ]
  },
  {
   "cell_type": "code",
   "execution_count": 119,
   "metadata": {},
   "outputs": [
    {
     "data": {
      "text/plain": [
       "249.38607007176"
      ]
     },
     "execution_count": 119,
     "metadata": {},
     "output_type": "execute_result"
    }
   ],
   "source": [
    "df_fillna.mean()"
   ]
  },
  {
   "cell_type": "markdown",
   "metadata": {},
   "source": [
    "# Q6"
   ]
  },
  {
   "cell_type": "code",
   "execution_count": 121,
   "metadata": {},
   "outputs": [],
   "source": [
    "df_RR = df[\n",
    "    df['Make'] == 'Rolls-Royce'\n",
    "]"
   ]
  },
  {
   "cell_type": "code",
   "execution_count": 125,
   "metadata": {},
   "outputs": [],
   "source": [
    "df_RR_filter = df_RR[[\"Engine HP\", \"Engine Cylinders\", \"highway MPG\"]]"
   ]
  },
  {
   "cell_type": "code",
   "execution_count": 149,
   "metadata": {},
   "outputs": [
    {
     "data": {
      "text/html": [
       "<div>\n",
       "<style scoped>\n",
       "    .dataframe tbody tr th:only-of-type {\n",
       "        vertical-align: middle;\n",
       "    }\n",
       "\n",
       "    .dataframe tbody tr th {\n",
       "        vertical-align: top;\n",
       "    }\n",
       "\n",
       "    .dataframe thead th {\n",
       "        text-align: right;\n",
       "    }\n",
       "</style>\n",
       "<table border=\"1\" class=\"dataframe\">\n",
       "  <thead>\n",
       "    <tr style=\"text-align: right;\">\n",
       "      <th></th>\n",
       "      <th>Engine HP</th>\n",
       "      <th>Engine Cylinders</th>\n",
       "      <th>highway MPG</th>\n",
       "    </tr>\n",
       "  </thead>\n",
       "  <tbody>\n",
       "    <tr>\n",
       "      <th>2921</th>\n",
       "      <td>325.0</td>\n",
       "      <td>8.0</td>\n",
       "      <td>15</td>\n",
       "    </tr>\n",
       "    <tr>\n",
       "      <th>3505</th>\n",
       "      <td>563.0</td>\n",
       "      <td>12.0</td>\n",
       "      <td>19</td>\n",
       "    </tr>\n",
       "    <tr>\n",
       "      <th>5275</th>\n",
       "      <td>563.0</td>\n",
       "      <td>12.0</td>\n",
       "      <td>21</td>\n",
       "    </tr>\n",
       "    <tr>\n",
       "      <th>5279</th>\n",
       "      <td>563.0</td>\n",
       "      <td>12.0</td>\n",
       "      <td>20</td>\n",
       "    </tr>\n",
       "    <tr>\n",
       "      <th>7443</th>\n",
       "      <td>322.0</td>\n",
       "      <td>12.0</td>\n",
       "      <td>15</td>\n",
       "    </tr>\n",
       "    <tr>\n",
       "      <th>7553</th>\n",
       "      <td>453.0</td>\n",
       "      <td>12.0</td>\n",
       "      <td>19</td>\n",
       "    </tr>\n",
       "    <tr>\n",
       "      <th>11448</th>\n",
       "      <td>624.0</td>\n",
       "      <td>12.0</td>\n",
       "      <td>21</td>\n",
       "    </tr>\n",
       "  </tbody>\n",
       "</table>\n",
       "</div>"
      ],
      "text/plain": [
       "       Engine HP  Engine Cylinders  highway MPG\n",
       "2921       325.0               8.0           15\n",
       "3505       563.0              12.0           19\n",
       "5275       563.0              12.0           21\n",
       "5279       563.0              12.0           20\n",
       "7443       322.0              12.0           15\n",
       "7553       453.0              12.0           19\n",
       "11448      624.0              12.0           21"
      ]
     },
     "execution_count": 149,
     "metadata": {},
     "output_type": "execute_result"
    }
   ],
   "source": [
    "df_RR_filter_drop = df_RR_filter.drop_duplicates()\n",
    "df_RR_filter_drop"
   ]
  },
  {
   "cell_type": "code",
   "execution_count": 150,
   "metadata": {},
   "outputs": [],
   "source": [
    "X = df_RR_filter_drop.values"
   ]
  },
  {
   "cell_type": "code",
   "execution_count": 151,
   "metadata": {},
   "outputs": [
    {
     "data": {
      "text/plain": [
       "array([[325.,   8.,  15.],\n",
       "       [563.,  12.,  19.],\n",
       "       [563.,  12.,  21.],\n",
       "       [563.,  12.,  20.],\n",
       "       [322.,  12.,  15.],\n",
       "       [453.,  12.,  19.],\n",
       "       [624.,  12.,  21.]])"
      ]
     },
     "execution_count": 151,
     "metadata": {},
     "output_type": "execute_result"
    }
   ],
   "source": [
    "X"
   ]
  },
  {
   "cell_type": "code",
   "execution_count": 157,
   "metadata": {},
   "outputs": [
    {
     "data": {
      "text/plain": [
       "array([[325., 563., 563., 563., 322., 453., 624.],\n",
       "       [  8.,  12.,  12.,  12.,  12.,  12.,  12.],\n",
       "       [ 15.,  19.,  21.,  20.,  15.,  19.,  21.]])"
      ]
     },
     "execution_count": 157,
     "metadata": {},
     "output_type": "execute_result"
    }
   ],
   "source": [
    "XT = X.T\n",
    "XT"
   ]
  },
  {
   "cell_type": "code",
   "execution_count": 158,
   "metadata": {},
   "outputs": [
    {
     "data": {
      "text/plain": [
       "array([[1.754801e+06, 3.965600e+04, 6.519600e+04],\n",
       "       [3.965600e+04, 9.280000e+02, 1.500000e+03],\n",
       "       [6.519600e+04, 1.500000e+03, 2.454000e+03]])"
      ]
     },
     "execution_count": 158,
     "metadata": {},
     "output_type": "execute_result"
    }
   ],
   "source": [
    "XTX = XT.dot(X)\n",
    "XTX"
   ]
  },
  {
   "cell_type": "code",
   "execution_count": 160,
   "metadata": {},
   "outputs": [
    {
     "data": {
      "text/plain": [
       "array([[ 5.17815728e-05,  9.06587044e-04, -1.92984188e-03],\n",
       "       [ 9.06587044e-04,  1.05723058e-01, -8.87084092e-02],\n",
       "       [-1.92984188e-03, -8.87084092e-02,  1.05900809e-01]])"
      ]
     },
     "execution_count": 160,
     "metadata": {},
     "output_type": "execute_result"
    }
   ],
   "source": [
    "XTXinv = np.linalg.inv(XTX)\n",
    "XTXinv"
   ]
  },
  {
   "cell_type": "code",
   "execution_count": 161,
   "metadata": {},
   "outputs": [
    {
     "data": {
      "text/plain": [
       "0.032212320677486195"
      ]
     },
     "execution_count": 161,
     "metadata": {},
     "output_type": "execute_result"
    }
   ],
   "source": [
    "XTXinv.sum()"
   ]
  },
  {
   "cell_type": "markdown",
   "metadata": {},
   "source": [
    "# Q7"
   ]
  },
  {
   "cell_type": "code",
   "execution_count": 140,
   "metadata": {},
   "outputs": [],
   "source": [
    "y = [1000, 1100, 900, 1200, 1000, 850, 1300]"
   ]
  },
  {
   "cell_type": "code",
   "execution_count": 162,
   "metadata": {},
   "outputs": [
    {
     "data": {
      "text/plain": [
       "array([1000, 1100,  900, 1200, 1000,  850, 1300])"
      ]
     },
     "execution_count": 162,
     "metadata": {},
     "output_type": "execute_result"
    }
   ],
   "source": [
    "y = np.array(y)\n",
    "y"
   ]
  },
  {
   "cell_type": "code",
   "execution_count": 163,
   "metadata": {},
   "outputs": [
    {
     "data": {
      "text/plain": [
       "array([[-0.00486592,  0.00336507, -0.00049461,  0.00143523, -0.00139492,\n",
       "        -0.0023309 ,  0.00266407],\n",
       "       [-0.19020088,  0.09362543, -0.08379139,  0.00491702,  0.22997159,\n",
       "        -0.00609915, -0.02848958],\n",
       "       [ 0.25164625, -0.13888652,  0.0729151 , -0.03298571, -0.09739786,\n",
       "         0.07339609, -0.04480526]])"
      ]
     },
     "execution_count": 163,
     "metadata": {},
     "output_type": "execute_result"
    }
   ],
   "source": [
    "X_new = XTXinv.dot(XT)\n",
    "X_new"
   ]
  },
  {
   "cell_type": "code",
   "execution_count": 165,
   "metadata": {},
   "outputs": [
    {
     "data": {
      "text/plain": [
       "array([ 0.19989598, 31.02612262, 31.65378877])"
      ]
     },
     "execution_count": 165,
     "metadata": {},
     "output_type": "execute_result"
    }
   ],
   "source": [
    "w = X_new.dot(y)\n",
    "w"
   ]
  },
  {
   "cell_type": "code",
   "execution_count": null,
   "metadata": {},
   "outputs": [],
   "source": []
  }
 ],
 "metadata": {
  "kernelspec": {
   "display_name": "Python 3",
   "language": "python",
   "name": "python3"
  },
  "language_info": {
   "codemirror_mode": {
    "name": "ipython",
    "version": 3
   },
   "file_extension": ".py",
   "mimetype": "text/x-python",
   "name": "python",
   "nbconvert_exporter": "python",
   "pygments_lexer": "ipython3",
   "version": "3.8.5"
  }
 },
 "nbformat": 4,
 "nbformat_minor": 4
}
